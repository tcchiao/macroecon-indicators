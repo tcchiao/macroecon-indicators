{
 "cells": [
  {
   "cell_type": "code",
   "execution_count": 26,
   "metadata": {
    "collapsed": false
   },
   "outputs": [
    {
     "name": "stderr",
     "output_type": "stream",
     "text": [
      "/Users/ericpei/anaconda/lib/python2.7/site-packages/matplotlib/font_manager.py:273: UserWarning: Matplotlib is building the font cache using fc-list. This may take a moment.\n",
      "  warnings.warn('Matplotlib is building the font cache using fc-list. This may take a moment.')\n"
     ]
    }
   ],
   "source": [
    "from fredapi import Fred\n",
    "import matplotlib.pyplot as plt\n",
    "import pandas\n",
    "import numpy as np\n",
    "import seaborn as sn"
   ]
  },
  {
   "cell_type": "code",
   "execution_count": 27,
   "metadata": {
    "collapsed": true
   },
   "outputs": [],
   "source": [
    "%matplotlib inline"
   ]
  },
  {
   "cell_type": "code",
   "execution_count": 8,
   "metadata": {
    "collapsed": false
   },
   "outputs": [],
   "source": [
    "with open (\"api_key\", \"r\") as myfile:\n",
    "    key=myfile.readline()"
   ]
  },
  {
   "cell_type": "code",
   "execution_count": 12,
   "metadata": {
    "collapsed": true
   },
   "outputs": [],
   "source": [
    "fred = Fred(api_key=key)"
   ]
  },
  {
   "cell_type": "code",
   "execution_count": 17,
   "metadata": {
    "collapsed": false
   },
   "outputs": [],
   "source": [
    "SP500 = fred.get_series('SP500')"
   ]
  },
  {
   "cell_type": "code",
   "execution_count": 41,
   "metadata": {
    "collapsed": false
   },
   "outputs": [
    {
     "data": {
      "text/plain": [
       "2006-06-09    1252.3\n",
       "dtype: float64"
      ]
     },
     "execution_count": 41,
     "metadata": {},
     "output_type": "execute_result"
    }
   ],
   "source": [
    "SP500[:1]"
   ]
  },
  {
   "cell_type": "code",
   "execution_count": 42,
   "metadata": {
    "collapsed": true
   },
   "outputs": [],
   "source": [
    "start_date = '2006-06-09'"
   ]
  },
  {
   "cell_type": "markdown",
   "metadata": {},
   "source": [
    "### Kinda worthless, so little data"
   ]
  },
  {
   "cell_type": "markdown",
   "metadata": {},
   "source": [
    "##### Downloaded info from here: https://finance.yahoo.com/q/hp?s=%5EGSPC+Historical+Prices"
   ]
  },
  {
   "cell_type": "code",
   "execution_count": 68,
   "metadata": {
    "collapsed": true
   },
   "outputs": [],
   "source": [
    "SP500 = pd.read_csv('table.csv')"
   ]
  },
  {
   "cell_type": "code",
   "execution_count": 70,
   "metadata": {
    "collapsed": false,
    "scrolled": false
   },
   "outputs": [
    {
     "data": {
      "text/html": [
       "<div>\n",
       "<table border=\"1\" class=\"dataframe\">\n",
       "  <thead>\n",
       "    <tr style=\"text-align: right;\">\n",
       "      <th></th>\n",
       "      <th>Date</th>\n",
       "      <th>Open</th>\n",
       "      <th>High</th>\n",
       "      <th>Low</th>\n",
       "      <th>Close</th>\n",
       "      <th>Volume</th>\n",
       "      <th>Adj Close</th>\n",
       "    </tr>\n",
       "  </thead>\n",
       "  <tbody>\n",
       "    <tr>\n",
       "      <th>16713</th>\n",
       "      <td>1950-01-09</td>\n",
       "      <td>17.08</td>\n",
       "      <td>17.08</td>\n",
       "      <td>17.08</td>\n",
       "      <td>17.08</td>\n",
       "      <td>2520000</td>\n",
       "      <td>17.08</td>\n",
       "    </tr>\n",
       "    <tr>\n",
       "      <th>16714</th>\n",
       "      <td>1950-01-06</td>\n",
       "      <td>16.98</td>\n",
       "      <td>16.98</td>\n",
       "      <td>16.98</td>\n",
       "      <td>16.98</td>\n",
       "      <td>2010000</td>\n",
       "      <td>16.98</td>\n",
       "    </tr>\n",
       "    <tr>\n",
       "      <th>16715</th>\n",
       "      <td>1950-01-05</td>\n",
       "      <td>16.93</td>\n",
       "      <td>16.93</td>\n",
       "      <td>16.93</td>\n",
       "      <td>16.93</td>\n",
       "      <td>2550000</td>\n",
       "      <td>16.93</td>\n",
       "    </tr>\n",
       "    <tr>\n",
       "      <th>16716</th>\n",
       "      <td>1950-01-04</td>\n",
       "      <td>16.85</td>\n",
       "      <td>16.85</td>\n",
       "      <td>16.85</td>\n",
       "      <td>16.85</td>\n",
       "      <td>1890000</td>\n",
       "      <td>16.85</td>\n",
       "    </tr>\n",
       "    <tr>\n",
       "      <th>16717</th>\n",
       "      <td>1950-01-03</td>\n",
       "      <td>16.66</td>\n",
       "      <td>16.66</td>\n",
       "      <td>16.66</td>\n",
       "      <td>16.66</td>\n",
       "      <td>1260000</td>\n",
       "      <td>16.66</td>\n",
       "    </tr>\n",
       "  </tbody>\n",
       "</table>\n",
       "</div>"
      ],
      "text/plain": [
       "             Date   Open   High    Low  Close   Volume  Adj Close\n",
       "16713  1950-01-09  17.08  17.08  17.08  17.08  2520000      17.08\n",
       "16714  1950-01-06  16.98  16.98  16.98  16.98  2010000      16.98\n",
       "16715  1950-01-05  16.93  16.93  16.93  16.93  2550000      16.93\n",
       "16716  1950-01-04  16.85  16.85  16.85  16.85  1890000      16.85\n",
       "16717  1950-01-03  16.66  16.66  16.66  16.66  1260000      16.66"
      ]
     },
     "execution_count": 70,
     "metadata": {},
     "output_type": "execute_result"
    }
   ],
   "source": [
    "SP500.tail()"
   ]
  },
  {
   "cell_type": "code",
   "execution_count": 108,
   "metadata": {
    "collapsed": false
   },
   "outputs": [],
   "source": [
    "SP500['Date'] = pd.to_datetime(SP500['Date'])"
   ]
  },
  {
   "cell_type": "code",
   "execution_count": 135,
   "metadata": {
    "collapsed": false
   },
   "outputs": [],
   "source": [
    "SP500['YearMonth'] = SP500['Date'].map(lambda x: 1000*x.year + x.month)\n",
    "## Check dateutil is broken"
   ]
  },
  {
   "cell_type": "code",
   "execution_count": 149,
   "metadata": {
    "collapsed": false
   },
   "outputs": [
    {
     "data": {
      "text/html": [
       "<div>\n",
       "<table border=\"1\" class=\"dataframe\">\n",
       "  <thead>\n",
       "    <tr style=\"text-align: right;\">\n",
       "      <th></th>\n",
       "      <th>Open</th>\n",
       "      <th>High</th>\n",
       "      <th>Low</th>\n",
       "      <th>Close</th>\n",
       "      <th>Volume</th>\n",
       "      <th>Adj Close</th>\n",
       "    </tr>\n",
       "    <tr>\n",
       "      <th>Date</th>\n",
       "      <th></th>\n",
       "      <th></th>\n",
       "      <th></th>\n",
       "      <th></th>\n",
       "      <th></th>\n",
       "      <th></th>\n",
       "    </tr>\n",
       "  </thead>\n",
       "  <tbody>\n",
       "    <tr>\n",
       "      <th>1950-01-03</th>\n",
       "      <td>16.660000</td>\n",
       "      <td>16.660000</td>\n",
       "      <td>16.660000</td>\n",
       "      <td>16.660000</td>\n",
       "      <td>1260000</td>\n",
       "      <td>16.660000</td>\n",
       "    </tr>\n",
       "    <tr>\n",
       "      <th>1950-02-01</th>\n",
       "      <td>17.049999</td>\n",
       "      <td>17.049999</td>\n",
       "      <td>17.049999</td>\n",
       "      <td>17.049999</td>\n",
       "      <td>1810000</td>\n",
       "      <td>17.049999</td>\n",
       "    </tr>\n",
       "    <tr>\n",
       "      <th>1950-03-01</th>\n",
       "      <td>17.240000</td>\n",
       "      <td>17.240000</td>\n",
       "      <td>17.240000</td>\n",
       "      <td>17.240000</td>\n",
       "      <td>1410000</td>\n",
       "      <td>17.240000</td>\n",
       "    </tr>\n",
       "    <tr>\n",
       "      <th>1950-04-03</th>\n",
       "      <td>17.530001</td>\n",
       "      <td>17.530001</td>\n",
       "      <td>17.530001</td>\n",
       "      <td>17.530001</td>\n",
       "      <td>1570000</td>\n",
       "      <td>17.530001</td>\n",
       "    </tr>\n",
       "    <tr>\n",
       "      <th>1950-05-01</th>\n",
       "      <td>18.219999</td>\n",
       "      <td>18.219999</td>\n",
       "      <td>18.219999</td>\n",
       "      <td>18.219999</td>\n",
       "      <td>2390000</td>\n",
       "      <td>18.219999</td>\n",
       "    </tr>\n",
       "  </tbody>\n",
       "</table>\n",
       "</div>"
      ],
      "text/plain": [
       "                 Open       High        Low      Close   Volume  Adj Close\n",
       "Date                                                                      \n",
       "1950-01-03  16.660000  16.660000  16.660000  16.660000  1260000  16.660000\n",
       "1950-02-01  17.049999  17.049999  17.049999  17.049999  1810000  17.049999\n",
       "1950-03-01  17.240000  17.240000  17.240000  17.240000  1410000  17.240000\n",
       "1950-04-03  17.530001  17.530001  17.530001  17.530001  1570000  17.530001\n",
       "1950-05-01  18.219999  18.219999  18.219999  18.219999  2390000  18.219999"
      ]
     },
     "execution_count": 149,
     "metadata": {},
     "output_type": "execute_result"
    }
   ],
   "source": [
    "SP500_monthly = SP500.groupby(['YearMonth']).last()\n",
    "SP500_monthly = SP500_monthly.set_index(['Date'])\n",
    "SP500_monthly[:5]"
   ]
  },
  {
   "cell_type": "code",
   "execution_count": 150,
   "metadata": {
    "collapsed": false
   },
   "outputs": [
    {
     "data": {
      "text/plain": [
       "Timestamp('1950-01-03 00:00:00')"
      ]
     },
     "execution_count": 150,
     "metadata": {},
     "output_type": "execute_result"
    }
   ],
   "source": [
    "start_date = SP500['Date'].iloc[-1]\n",
    "start_date"
   ]
  },
  {
   "cell_type": "markdown",
   "metadata": {},
   "source": [
    "### Construction Spending"
   ]
  },
  {
   "cell_type": "code",
   "execution_count": 205,
   "metadata": {
    "collapsed": false,
    "scrolled": true
   },
   "outputs": [
    {
     "data": {
      "text/plain": [
       "date\n",
       "2015-12-01    1.11657e+06\n",
       "2016-01-01    1.14084e+06\n",
       "2016-02-01    1.14397e+06\n",
       "2016-03-01    1.13749e+06\n",
       "2016-04-01    1.13393e+06\n",
       "Name: value, dtype: object"
      ]
     },
     "execution_count": 205,
     "metadata": {},
     "output_type": "execute_result"
    }
   ],
   "source": [
    "CON_SPEND = fred.get_series_first_release('TTLCONS')\n",
    "CON_SPEND = CON_SPEND.loc[start_date:]\n",
    "CON_SPEND[:5]\n",
    "CON_SPEND.tail()"
   ]
  },
  {
   "cell_type": "markdown",
   "metadata": {},
   "source": [
    "### Retail Sales Index"
   ]
  },
  {
   "cell_type": "code",
   "execution_count": 204,
   "metadata": {
    "collapsed": false
   },
   "outputs": [
    {
     "data": {
      "text/plain": [
       "date\n",
       "2015-12-01    394392\n",
       "2016-01-01    396376\n",
       "2016-02-01    393591\n",
       "2016-03-01    393137\n",
       "2016-04-01    399320\n",
       "Name: value, dtype: object"
      ]
     },
     "execution_count": 204,
     "metadata": {},
     "output_type": "execute_result"
    }
   ],
   "source": [
    "RET_SALES_IND = fred.get_series_first_release('RSXFS')\n",
    "RET_SALES_IND = RET_SALES_IND.loc[start_date:]\n",
    "RET_SALES_IND[:5]\n",
    "RET_SALES_IND.tail()"
   ]
  },
  {
   "cell_type": "markdown",
   "metadata": {},
   "source": [
    "### ADP National Employment Report (unemployment)"
   ]
  },
  {
   "cell_type": "code",
   "execution_count": 153,
   "metadata": {
    "collapsed": false
   },
   "outputs": [
    {
     "data": {
      "text/plain": [
       "date\n",
       "1950-02-01    6.4\n",
       "1950-03-01    6.3\n",
       "1950-04-01      6\n",
       "1950-05-01    5.7\n",
       "1950-06-01    5.3\n",
       "Name: value, dtype: object"
      ]
     },
     "execution_count": 153,
     "metadata": {},
     "output_type": "execute_result"
    }
   ],
   "source": [
    "ADP_NER = fred.get_series_first_release('UNRATE')\n",
    "ADP_NER = ADP_NER.loc[start_date:]\n",
    "ADP_NER[:5]"
   ]
  },
  {
   "cell_type": "markdown",
   "metadata": {},
   "source": [
    "### New orders durable goods"
   ]
  },
  {
   "cell_type": "code",
   "execution_count": 206,
   "metadata": {
    "collapsed": false
   },
   "outputs": [
    {
     "data": {
      "text/plain": [
       "date\n",
       "1958-02-01    12026\n",
       "1958-03-01    12630\n",
       "1958-04-01    11836\n",
       "1958-05-01    12380\n",
       "1958-06-01    13399\n",
       "Name: value, dtype: object"
      ]
     },
     "execution_count": 206,
     "metadata": {},
     "output_type": "execute_result"
    }
   ],
   "source": [
    "DGORDER = fred.get_series_first_release('DGORDER')\n",
    "DGORDER = DGORDER.loc[start_date:]\n",
    "DGORDER[:5]"
   ]
  },
  {
   "cell_type": "markdown",
   "metadata": {},
   "source": [
    "### Manufacturers Shipments. Inventories, Orders"
   ]
  },
  {
   "cell_type": "code",
   "execution_count": 208,
   "metadata": {
    "collapsed": false
   },
   "outputs": [
    {
     "data": {
      "text/plain": [
       "date\n",
       "1992-01-01    227886\n",
       "1992-02-01    228960\n",
       "1992-03-01    238575\n",
       "1992-04-01    239888\n",
       "1992-05-01    243627\n",
       "Name: value, dtype: object"
      ]
     },
     "execution_count": 208,
     "metadata": {},
     "output_type": "execute_result"
    }
   ],
   "source": [
    "AMTMVS = fred.get_series_first_release('AMTMVS')\n",
    "AMTMVS = AMTMVS.loc[start_date:]\n",
    "AMTMVS[:5]"
   ]
  },
  {
   "cell_type": "markdown",
   "metadata": {},
   "source": [
    "### Trade balance"
   ]
  },
  {
   "cell_type": "code",
   "execution_count": 209,
   "metadata": {
    "collapsed": false
   },
   "outputs": [
    {
     "data": {
      "text/plain": [
       "date\n",
       "1992-01-01   -2031\n",
       "1992-02-01      35\n",
       "1992-03-01   -1794\n",
       "1992-04-01   -2643\n",
       "1992-05-01   -4194\n",
       "Name: value, dtype: object"
      ]
     },
     "execution_count": 209,
     "metadata": {},
     "output_type": "execute_result"
    }
   ],
   "source": [
    "BOPGSTB = fred.get_series_first_release('BOPGSTB')\n",
    "BOPGSTB = BOPGSTB.loc[start_date:]\n",
    "BOPGSTB[:5]"
   ]
  },
  {
   "cell_type": "markdown",
   "metadata": {},
   "source": [
    "### Total Consumer Credit"
   ]
  },
  {
   "cell_type": "code",
   "execution_count": 210,
   "metadata": {
    "collapsed": false
   },
   "outputs": [
    {
     "data": {
      "text/plain": [
       "date\n",
       "1950-02-01    19.4\n",
       "1950-03-01    19.8\n",
       "1950-04-01    20.1\n",
       "1950-05-01    20.6\n",
       "1950-06-01    21.2\n",
       "Name: value, dtype: object"
      ]
     },
     "execution_count": 210,
     "metadata": {},
     "output_type": "execute_result"
    }
   ],
   "source": [
    "TOTALSL = fred.get_series_first_release('TOTALSL')\n",
    "TOTALSL = TOTALSL.loc[start_date:]\n",
    "TOTALSL[:5]"
   ]
  },
  {
   "cell_type": "markdown",
   "metadata": {},
   "source": [
    "### PMI (purchasing managers index)"
   ]
  },
  {
   "cell_type": "code",
   "execution_count": 211,
   "metadata": {
    "collapsed": false
   },
   "outputs": [
    {
     "data": {
      "text/plain": [
       "date\n",
       "1950-02-01    60.5\n",
       "1950-03-01    62.1\n",
       "1950-04-01    68.1\n",
       "1950-05-01    74.7\n",
       "1950-06-01    76.6\n",
       "Name: value, dtype: object"
      ]
     },
     "execution_count": 211,
     "metadata": {},
     "output_type": "execute_result"
    }
   ],
   "source": [
    "NAPM = fred.get_series_first_release('NAPM')\n",
    "NAPM = NAPM.loc[start_date:]\n",
    "NAPM[:5]"
   ]
  },
  {
   "cell_type": "markdown",
   "metadata": {},
   "source": [
    "### Total Job Openings Nonfarm"
   ]
  },
  {
   "cell_type": "code",
   "execution_count": 212,
   "metadata": {
    "collapsed": false
   },
   "outputs": [
    {
     "data": {
      "text/plain": [
       "date\n",
       "2000-12-01    5111\n",
       "2001-01-01    5082\n",
       "2001-02-01    4885\n",
       "2001-03-01    4992\n",
       "2001-04-01    4803\n",
       "Name: value, dtype: object"
      ]
     },
     "execution_count": 212,
     "metadata": {},
     "output_type": "execute_result"
    }
   ],
   "source": [
    "JTSJOL = fred.get_series_first_release('JTSJOL')\n",
    "JTSJOL = JTSJOL.loc[start_date:]\n",
    "JTSJOL[:5]"
   ]
  },
  {
   "cell_type": "markdown",
   "metadata": {},
   "source": [
    "### Value of manufacturers inventories"
   ]
  },
  {
   "cell_type": "code",
   "execution_count": 213,
   "metadata": {
    "collapsed": false
   },
   "outputs": [
    {
     "data": {
      "text/plain": [
       "date\n",
       "1992-01-01    375389\n",
       "1992-02-01    378146\n",
       "1992-03-01    377223\n",
       "1992-04-01    379047\n",
       "1992-05-01    380525\n",
       "Name: value, dtype: object"
      ]
     },
     "execution_count": 213,
     "metadata": {},
     "output_type": "execute_result"
    }
   ],
   "source": [
    "UMTMTI = fred.get_series_first_release('UMTMTI')\n",
    "UMTMTI = UMTMTI.loc[start_date:]\n",
    "UMTMTI[:5]"
   ]
  },
  {
   "cell_type": "markdown",
   "metadata": {},
   "source": [
    "### Consumer Price Index"
   ]
  },
  {
   "cell_type": "code",
   "execution_count": 214,
   "metadata": {
    "collapsed": false
   },
   "outputs": [
    {
     "data": {
      "text/plain": [
       "date\n",
       "1950-02-01    23.61\n",
       "1950-03-01    23.64\n",
       "1950-04-01    23.65\n",
       "1950-05-01    23.77\n",
       "1950-06-01    23.88\n",
       "Name: value, dtype: object"
      ]
     },
     "execution_count": 214,
     "metadata": {},
     "output_type": "execute_result"
    }
   ],
   "source": [
    "CPI = fred.get_series_first_release('CPIAUCSL')\n",
    "CPI = CPI.loc[start_date:]\n",
    "CPI[:5]"
   ]
  },
  {
   "cell_type": "markdown",
   "metadata": {},
   "source": [
    "### Consumer Sentiment"
   ]
  },
  {
   "cell_type": "code",
   "execution_count": 215,
   "metadata": {
    "collapsed": false
   },
   "outputs": [
    {
     "data": {
      "text/plain": [
       "date\n",
       "1952-11-01    86.2\n",
       "1953-02-01    90.7\n",
       "1953-08-01    80.8\n",
       "1953-11-01    80.7\n",
       "1954-02-01      82\n",
       "Name: value, dtype: object"
      ]
     },
     "execution_count": 215,
     "metadata": {},
     "output_type": "execute_result"
    }
   ],
   "source": [
    "UMCSENT = fred.get_series_first_release('UMCSENT')\n",
    "UMCSENT = UMCSENT.loc[start_date:]\n",
    "UMCSENT[:5]"
   ]
  },
  {
   "cell_type": "markdown",
   "metadata": {},
   "source": [
    "### Producer Price Index"
   ]
  },
  {
   "cell_type": "code",
   "execution_count": 216,
   "metadata": {
    "collapsed": false
   },
   "outputs": [
    {
     "data": {
      "text/plain": [
       "date\n",
       "1950-02-01    26.1\n",
       "1950-03-01    26.1\n",
       "1950-04-01    26.1\n",
       "1950-05-01    26.4\n",
       "1950-06-01    26.6\n",
       "Name: value, dtype: object"
      ]
     },
     "execution_count": 216,
     "metadata": {},
     "output_type": "execute_result"
    }
   ],
   "source": [
    "PPIACO = fred.get_series_first_release('PPIACO')\n",
    "PPIACO = PPIACO.loc[start_date:]\n",
    "PPIACO[:5]"
   ]
  },
  {
   "cell_type": "markdown",
   "metadata": {},
   "source": [
    "### Real Earnings"
   ]
  },
  {
   "cell_type": "code",
   "execution_count": 217,
   "metadata": {
    "collapsed": false
   },
   "outputs": [
    {
     "data": {
      "text/plain": [
       "date\n",
       "1979-01-01    335\n",
       "1979-04-01    335\n",
       "1979-07-01    330\n",
       "1979-10-01    326\n",
       "1980-01-01    321\n",
       "Name: value, dtype: object"
      ]
     },
     "execution_count": 217,
     "metadata": {},
     "output_type": "execute_result"
    }
   ],
   "source": [
    "RLEARN = fred.get_series_first_release('LES1252881600Q')\n",
    "RLEARN = RLEARN.loc[start_date:]\n",
    "RLEARN[:5]"
   ]
  },
  {
   "cell_type": "markdown",
   "metadata": {},
   "source": [
    "### Housing Starts"
   ]
  },
  {
   "cell_type": "code",
   "execution_count": 218,
   "metadata": {
    "collapsed": false
   },
   "outputs": [
    {
     "data": {
      "text/plain": [
       "date\n",
       "1959-01-01    1533\n",
       "1959-02-01    1546\n",
       "1959-03-01    1598\n",
       "1959-04-01    1613\n",
       "1959-05-01    1597\n",
       "Name: value, dtype: object"
      ]
     },
     "execution_count": 218,
     "metadata": {},
     "output_type": "execute_result"
    }
   ],
   "source": [
    "HOUST = fred.get_series_first_release('HOUST')\n",
    "HOUST = HOUST.loc[start_date:]\n",
    "HOUST[:5]"
   ]
  },
  {
   "cell_type": "markdown",
   "metadata": {},
   "source": [
    "### Retail Sales Seasonally Adjusted"
   ]
  },
  {
   "cell_type": "code",
   "execution_count": 219,
   "metadata": {
    "collapsed": false
   },
   "outputs": [
    {
     "data": {
      "text/plain": [
       "date\n",
       "1992-01-01    150216\n",
       "1992-02-01    150809\n",
       "1992-03-01    150201\n",
       "1992-04-01    151290\n",
       "1992-05-01    152064\n",
       "Name: value, dtype: object"
      ]
     },
     "execution_count": 219,
     "metadata": {},
     "output_type": "execute_result"
    }
   ],
   "source": [
    "RSXFS = fred.get_series_first_release('RSXFS')\n",
    "RSXFS = RSXFS.loc[start_date:]\n",
    "RSXFS[:5]"
   ]
  },
  {
   "cell_type": "markdown",
   "metadata": {},
   "source": [
    "### Home Inventories"
   ]
  },
  {
   "cell_type": "code",
   "execution_count": 220,
   "metadata": {
    "collapsed": false
   },
   "outputs": [
    {
     "data": {
      "text/plain": [
       "date\n",
       "1963-01-01    4.7\n",
       "1963-02-01    6.6\n",
       "1963-03-01    6.4\n",
       "1963-04-01    5.3\n",
       "1963-05-01    5.1\n",
       "Name: value, dtype: object"
      ]
     },
     "execution_count": 220,
     "metadata": {},
     "output_type": "execute_result"
    }
   ],
   "source": [
    "MSACSR = fred.get_series_first_release('MSACSR')\n",
    "MSACSR = MSACSR.loc[start_date:]\n",
    "MSACSR[:5]"
   ]
  },
  {
   "cell_type": "markdown",
   "metadata": {},
   "source": [
    "### 4 Week Moving Average of Initial Jobless Claims"
   ]
  },
  {
   "cell_type": "code",
   "execution_count": 221,
   "metadata": {
    "collapsed": false
   },
   "outputs": [
    {
     "data": {
      "text/plain": [
       "date\n",
       "1967-01-28    209000\n",
       "1967-02-04    211000\n",
       "1967-02-11    216500\n",
       "1967-02-18    219500\n",
       "1967-02-25    229000\n",
       "Name: value, dtype: object"
      ]
     },
     "execution_count": 221,
     "metadata": {},
     "output_type": "execute_result"
    }
   ],
   "source": [
    "IC4WSA = fred.get_series_first_release('IC4WSA')\n",
    "IC4WSA = IC4WSA.loc[start_date:]\n",
    "IC4WSA[:5]"
   ]
  },
  {
   "cell_type": "markdown",
   "metadata": {},
   "source": [
    "### Personal Savings Rate"
   ]
  },
  {
   "cell_type": "code",
   "execution_count": 222,
   "metadata": {
    "collapsed": false
   },
   "outputs": [
    {
     "data": {
      "text/plain": [
       "date\n",
       "1959-01-01    7.8\n",
       "1959-02-01    7.3\n",
       "1959-03-01    7.1\n",
       "1959-04-01    7.9\n",
       "1959-05-01    7.4\n",
       "Name: value, dtype: object"
      ]
     },
     "execution_count": 222,
     "metadata": {},
     "output_type": "execute_result"
    }
   ],
   "source": [
    "PSAVERT = fred.get_series_first_release('PSAVERT')\n",
    "PSAVERT = PSAVERT.loc[start_date:]\n",
    "PSAVERT[:5]"
   ]
  },
  {
   "cell_type": "markdown",
   "metadata": {},
   "source": [
    "### Commerical and Industrial Loans"
   ]
  },
  {
   "cell_type": "code",
   "execution_count": 223,
   "metadata": {
    "collapsed": false
   },
   "outputs": [
    {
     "data": {
      "text/plain": [
       "date\n",
       "1950-02-01      14\n",
       "1950-03-01    14.2\n",
       "1950-04-01    14.3\n",
       "1950-05-01    14.5\n",
       "1950-06-01    14.6\n",
       "Name: value, dtype: object"
      ]
     },
     "execution_count": 223,
     "metadata": {},
     "output_type": "execute_result"
    }
   ],
   "source": [
    "BUSLOANS = fred.get_series_first_release('BUSLOANS')\n",
    "BUSLOANS = BUSLOANS.loc[start_date:]\n",
    "BUSLOANS[:5]"
   ]
  },
  {
   "cell_type": "markdown",
   "metadata": {},
   "source": [
    "### Debt Payments as a % of Disposable Income"
   ]
  },
  {
   "cell_type": "code",
   "execution_count": 224,
   "metadata": {
    "collapsed": false
   },
   "outputs": [
    {
     "data": {
      "text/plain": [
       "date\n",
       "1980-01-01    13.01\n",
       "1980-04-01    13.09\n",
       "1980-07-01    12.75\n",
       "1980-10-01    12.46\n",
       "1981-01-01     12.4\n",
       "Name: value, dtype: object"
      ]
     },
     "execution_count": 224,
     "metadata": {},
     "output_type": "execute_result"
    }
   ],
   "source": [
    "TDSP = fred.get_series_first_release('TDSP')\n",
    "TDSP = TDSP.loc[start_date:]\n",
    "TDSP[:5]"
   ]
  },
  {
   "cell_type": "markdown",
   "metadata": {},
   "source": [
    "### Capacity Utilization, total industry"
   ]
  },
  {
   "cell_type": "code",
   "execution_count": 225,
   "metadata": {
    "collapsed": false
   },
   "outputs": [
    {
     "data": {
      "text/plain": [
       "date\n",
       "1967-01-01    88.7\n",
       "1967-02-01    87.3\n",
       "1967-03-01    86.4\n",
       "1967-04-01    86.8\n",
       "1967-05-01    85.7\n",
       "Name: value, dtype: object"
      ]
     },
     "execution_count": 225,
     "metadata": {},
     "output_type": "execute_result"
    }
   ],
   "source": [
    "TCU = fred.get_series_first_release('TCU')\n",
    "TCU = TCU.loc[start_date:]\n",
    "TCU[:5]"
   ]
  },
  {
   "cell_type": "markdown",
   "metadata": {},
   "source": [
    "### S&P Case Schiller Home Price Index"
   ]
  },
  {
   "cell_type": "code",
   "execution_count": 226,
   "metadata": {
    "collapsed": false
   },
   "outputs": [
    {
     "data": {
      "text/plain": [
       "date\n",
       "1987-01-01    46.96\n",
       "1987-02-01     47.3\n",
       "1987-03-01    47.84\n",
       "1987-04-01    47.98\n",
       "1987-05-01    48.31\n",
       "Name: value, dtype: object"
      ]
     },
     "execution_count": 226,
     "metadata": {},
     "output_type": "execute_result"
    }
   ],
   "source": [
    "SFXRSA = fred.get_series_first_release('SFXRSA')\n",
    "SFXRSA = SFXRSA.loc[start_date:]\n",
    "SFXRSA[:5]"
   ]
  },
  {
   "cell_type": "code",
   "execution_count": 175,
   "metadata": {
    "collapsed": false,
    "scrolled": true
   },
   "outputs": [
    {
     "data": {
      "image/png": "[encoded data removed]",
      "text/plain": [
       "<matplotlib.figure.Figure at 0x11a0914d0>"
      ]
     },
     "metadata": {},
     "output_type": "display_data"
    }
   ],
   "source": [
    "plt.figure(1, figsize=(25,25))\n",
    "\n",
    "\n",
    "plt.subplot(511)\n",
    "plt.xlabel('Date')\n",
    "plt.ylabel('SP500')\n",
    "plt.title('SP500')\n",
    "plt.title('SP500')\n",
    "SP500_daily = SP500.set_index(['Date'])\n",
    "plt.plot(SP500_daily['Close'])\n",
    "plt.plot(SP500_monthly['Close'])\n",
    "\n",
    "plt.subplot(512)\n",
    "plt.grid(False)\n",
    "plt.xlabel('Date')\n",
    "plt.ylabel('Construction Spending')\n",
    "plt.title('Construction Spending')\n",
    "plt.plot(CON_SPEND)\n",
    "\n",
    "plt.subplot(513)\n",
    "plt.grid(False)\n",
    "plt.xlabel('Date')\n",
    "plt.ylabel('Retail Sales Index')\n",
    "plt.title('Retail Sales Index')\n",
    "plt.plot(RET_SALES_IND)\n",
    "\n",
    "plt.subplot(514)\n",
    "plt.grid(False)\n",
    "plt.xlabel('Date')\n",
    "plt.ylabel('ADP National Employment Report')\n",
    "plt.title('ADP National Employment Report')\n",
    "plt.plot(ADP_NER)\n",
    "\n",
    "plt.show()"
   ]
  },
  {
   "cell_type": "code",
   "execution_count": 177,
   "metadata": {
    "collapsed": false,
    "scrolled": true
   },
   "outputs": [
    {
     "data": {
      "text/html": [
       "<div>\n",
       "<table border=\"1\" class=\"dataframe\">\n",
       "  <thead>\n",
       "    <tr style=\"text-align: right;\">\n",
       "      <th></th>\n",
       "      <th>Open</th>\n",
       "      <th>High</th>\n",
       "      <th>Low</th>\n",
       "      <th>Close</th>\n",
       "      <th>Volume</th>\n",
       "      <th>Adj Close</th>\n",
       "    </tr>\n",
       "    <tr>\n",
       "      <th>Date</th>\n",
       "      <th></th>\n",
       "      <th></th>\n",
       "      <th></th>\n",
       "      <th></th>\n",
       "      <th></th>\n",
       "      <th></th>\n",
       "    </tr>\n",
       "  </thead>\n",
       "  <tbody>\n",
       "    <tr>\n",
       "      <th>1950-01-03</th>\n",
       "      <td>16.660000</td>\n",
       "      <td>16.660000</td>\n",
       "      <td>16.660000</td>\n",
       "      <td>16.660000</td>\n",
       "      <td>1260000</td>\n",
       "      <td>16.660000</td>\n",
       "    </tr>\n",
       "    <tr>\n",
       "      <th>1950-02-01</th>\n",
       "      <td>17.049999</td>\n",
       "      <td>17.049999</td>\n",
       "      <td>17.049999</td>\n",
       "      <td>17.049999</td>\n",
       "      <td>1810000</td>\n",
       "      <td>17.049999</td>\n",
       "    </tr>\n",
       "    <tr>\n",
       "      <th>1950-03-01</th>\n",
       "      <td>17.240000</td>\n",
       "      <td>17.240000</td>\n",
       "      <td>17.240000</td>\n",
       "      <td>17.240000</td>\n",
       "      <td>1410000</td>\n",
       "      <td>17.240000</td>\n",
       "    </tr>\n",
       "    <tr>\n",
       "      <th>1950-04-03</th>\n",
       "      <td>17.530001</td>\n",
       "      <td>17.530001</td>\n",
       "      <td>17.530001</td>\n",
       "      <td>17.530001</td>\n",
       "      <td>1570000</td>\n",
       "      <td>17.530001</td>\n",
       "    </tr>\n",
       "    <tr>\n",
       "      <th>1950-05-01</th>\n",
       "      <td>18.219999</td>\n",
       "      <td>18.219999</td>\n",
       "      <td>18.219999</td>\n",
       "      <td>18.219999</td>\n",
       "      <td>2390000</td>\n",
       "      <td>18.219999</td>\n",
       "    </tr>\n",
       "  </tbody>\n",
       "</table>\n",
       "</div>"
      ],
      "text/plain": [
       "                 Open       High        Low      Close   Volume  Adj Close\n",
       "Date                                                                      \n",
       "1950-01-03  16.660000  16.660000  16.660000  16.660000  1260000  16.660000\n",
       "1950-02-01  17.049999  17.049999  17.049999  17.049999  1810000  17.049999\n",
       "1950-03-01  17.240000  17.240000  17.240000  17.240000  1410000  17.240000\n",
       "1950-04-03  17.530001  17.530001  17.530001  17.530001  1570000  17.530001\n",
       "1950-05-01  18.219999  18.219999  18.219999  18.219999  2390000  18.219999"
      ]
     },
     "execution_count": 177,
     "metadata": {},
     "output_type": "execute_result"
    }
   ],
   "source": [
    "SP500_monthly.head()"
   ]
  },
  {
   "cell_type": "code",
   "execution_count": 197,
   "metadata": {
    "collapsed": false
   },
   "outputs": [
    {
     "data": {
      "text/html": [
       "<div>\n",
       "<table border=\"1\" class=\"dataframe\">\n",
       "  <thead>\n",
       "    <tr style=\"text-align: right;\">\n",
       "      <th></th>\n",
       "      <th>Open</th>\n",
       "      <th>High</th>\n",
       "      <th>Low</th>\n",
       "      <th>Close</th>\n",
       "      <th>Volume</th>\n",
       "      <th>Adj Close</th>\n",
       "      <th>YearMonth</th>\n",
       "    </tr>\n",
       "  </thead>\n",
       "  <tbody>\n",
       "    <tr>\n",
       "      <th>1950-01-01</th>\n",
       "      <td>16.660000</td>\n",
       "      <td>16.660000</td>\n",
       "      <td>16.660000</td>\n",
       "      <td>16.660000</td>\n",
       "      <td>1260000</td>\n",
       "      <td>16.660000</td>\n",
       "      <td>1950001</td>\n",
       "    </tr>\n",
       "    <tr>\n",
       "      <th>1950-02-01</th>\n",
       "      <td>17.049999</td>\n",
       "      <td>17.049999</td>\n",
       "      <td>17.049999</td>\n",
       "      <td>17.049999</td>\n",
       "      <td>1810000</td>\n",
       "      <td>17.049999</td>\n",
       "      <td>1950002</td>\n",
       "    </tr>\n",
       "    <tr>\n",
       "      <th>1950-03-01</th>\n",
       "      <td>17.240000</td>\n",
       "      <td>17.240000</td>\n",
       "      <td>17.240000</td>\n",
       "      <td>17.240000</td>\n",
       "      <td>1410000</td>\n",
       "      <td>17.240000</td>\n",
       "      <td>1950003</td>\n",
       "    </tr>\n",
       "    <tr>\n",
       "      <th>1950-04-01</th>\n",
       "      <td>17.530001</td>\n",
       "      <td>17.530001</td>\n",
       "      <td>17.530001</td>\n",
       "      <td>17.530001</td>\n",
       "      <td>1570000</td>\n",
       "      <td>17.530001</td>\n",
       "      <td>1950004</td>\n",
       "    </tr>\n",
       "    <tr>\n",
       "      <th>1950-05-01</th>\n",
       "      <td>18.219999</td>\n",
       "      <td>18.219999</td>\n",
       "      <td>18.219999</td>\n",
       "      <td>18.219999</td>\n",
       "      <td>2390000</td>\n",
       "      <td>18.219999</td>\n",
       "      <td>1950005</td>\n",
       "    </tr>\n",
       "    <tr>\n",
       "      <th>1950-06-01</th>\n",
       "      <td>18.770000</td>\n",
       "      <td>18.770000</td>\n",
       "      <td>18.770000</td>\n",
       "      <td>18.770000</td>\n",
       "      <td>1580000</td>\n",
       "      <td>18.770000</td>\n",
       "      <td>1950006</td>\n",
       "    </tr>\n",
       "    <tr>\n",
       "      <th>1950-07-01</th>\n",
       "      <td>17.639999</td>\n",
       "      <td>17.639999</td>\n",
       "      <td>17.639999</td>\n",
       "      <td>17.639999</td>\n",
       "      <td>1550000</td>\n",
       "      <td>17.639999</td>\n",
       "      <td>1950007</td>\n",
       "    </tr>\n",
       "    <tr>\n",
       "      <th>1950-08-01</th>\n",
       "      <td>18.020000</td>\n",
       "      <td>18.020000</td>\n",
       "      <td>18.020000</td>\n",
       "      <td>18.020000</td>\n",
       "      <td>1970000</td>\n",
       "      <td>18.020000</td>\n",
       "      <td>1950008</td>\n",
       "    </tr>\n",
       "    <tr>\n",
       "      <th>1950-09-01</th>\n",
       "      <td>18.549999</td>\n",
       "      <td>18.549999</td>\n",
       "      <td>18.549999</td>\n",
       "      <td>18.549999</td>\n",
       "      <td>1290000</td>\n",
       "      <td>18.549999</td>\n",
       "      <td>1950009</td>\n",
       "    </tr>\n",
       "    <tr>\n",
       "      <th>1950-10-01</th>\n",
       "      <td>19.690001</td>\n",
       "      <td>19.690001</td>\n",
       "      <td>19.690001</td>\n",
       "      <td>19.690001</td>\n",
       "      <td>2200000</td>\n",
       "      <td>19.690001</td>\n",
       "      <td>1950010</td>\n",
       "    </tr>\n",
       "    <tr>\n",
       "      <th>1950-11-01</th>\n",
       "      <td>19.559999</td>\n",
       "      <td>19.559999</td>\n",
       "      <td>19.559999</td>\n",
       "      <td>19.559999</td>\n",
       "      <td>1780000</td>\n",
       "      <td>19.559999</td>\n",
       "      <td>1950011</td>\n",
       "    </tr>\n",
       "    <tr>\n",
       "      <th>1950-12-01</th>\n",
       "      <td>19.660000</td>\n",
       "      <td>19.660000</td>\n",
       "      <td>19.660000</td>\n",
       "      <td>19.660000</td>\n",
       "      <td>1870000</td>\n",
       "      <td>19.660000</td>\n",
       "      <td>1950012</td>\n",
       "    </tr>\n",
       "    <tr>\n",
       "      <th>1951-01-01</th>\n",
       "      <td>20.770000</td>\n",
       "      <td>20.770000</td>\n",
       "      <td>20.770000</td>\n",
       "      <td>20.770000</td>\n",
       "      <td>3030000</td>\n",
       "      <td>20.770000</td>\n",
       "      <td>1951001</td>\n",
       "    </tr>\n",
       "    <tr>\n",
       "      <th>1951-02-01</th>\n",
       "      <td>21.770000</td>\n",
       "      <td>21.770000</td>\n",
       "      <td>21.770000</td>\n",
       "      <td>21.770000</td>\n",
       "      <td>2380000</td>\n",
       "      <td>21.770000</td>\n",
       "      <td>1951002</td>\n",
       "    </tr>\n",
       "    <tr>\n",
       "      <th>1951-03-01</th>\n",
       "      <td>21.850000</td>\n",
       "      <td>21.850000</td>\n",
       "      <td>21.850000</td>\n",
       "      <td>21.850000</td>\n",
       "      <td>1610000</td>\n",
       "      <td>21.850000</td>\n",
       "      <td>1951003</td>\n",
       "    </tr>\n",
       "    <tr>\n",
       "      <th>1951-04-01</th>\n",
       "      <td>21.320000</td>\n",
       "      <td>21.320000</td>\n",
       "      <td>21.320000</td>\n",
       "      <td>21.320000</td>\n",
       "      <td>1280000</td>\n",
       "      <td>21.320000</td>\n",
       "      <td>1951004</td>\n",
       "    </tr>\n",
       "    <tr>\n",
       "      <th>1951-05-01</th>\n",
       "      <td>22.530001</td>\n",
       "      <td>22.530001</td>\n",
       "      <td>22.530001</td>\n",
       "      <td>22.530001</td>\n",
       "      <td>1760000</td>\n",
       "      <td>22.530001</td>\n",
       "      <td>1951005</td>\n",
       "    </tr>\n",
       "    <tr>\n",
       "      <th>1951-06-01</th>\n",
       "      <td>21.480000</td>\n",
       "      <td>21.480000</td>\n",
       "      <td>21.480000</td>\n",
       "      <td>21.480000</td>\n",
       "      <td>9810000</td>\n",
       "      <td>21.480000</td>\n",
       "      <td>1951006</td>\n",
       "    </tr>\n",
       "    <tr>\n",
       "      <th>1951-07-01</th>\n",
       "      <td>21.100000</td>\n",
       "      <td>21.100000</td>\n",
       "      <td>21.100000</td>\n",
       "      <td>21.100000</td>\n",
       "      <td>1350000</td>\n",
       "      <td>21.100000</td>\n",
       "      <td>1951007</td>\n",
       "    </tr>\n",
       "    <tr>\n",
       "      <th>1951-08-01</th>\n",
       "      <td>22.510000</td>\n",
       "      <td>22.510000</td>\n",
       "      <td>22.510000</td>\n",
       "      <td>22.510000</td>\n",
       "      <td>1680000</td>\n",
       "      <td>22.510000</td>\n",
       "      <td>1951008</td>\n",
       "    </tr>\n",
       "  </tbody>\n",
       "</table>\n",
       "</div>"
      ],
      "text/plain": [
       "                 Open       High        Low      Close   Volume  Adj Close  \\\n",
       "1950-01-01  16.660000  16.660000  16.660000  16.660000  1260000  16.660000   \n",
       "1950-02-01  17.049999  17.049999  17.049999  17.049999  1810000  17.049999   \n",
       "1950-03-01  17.240000  17.240000  17.240000  17.240000  1410000  17.240000   \n",
       "1950-04-01  17.530001  17.530001  17.530001  17.530001  1570000  17.530001   \n",
       "1950-05-01  18.219999  18.219999  18.219999  18.219999  2390000  18.219999   \n",
       "1950-06-01  18.770000  18.770000  18.770000  18.770000  1580000  18.770000   \n",
       "1950-07-01  17.639999  17.639999  17.639999  17.639999  1550000  17.639999   \n",
       "1950-08-01  18.020000  18.020000  18.020000  18.020000  1970000  18.020000   \n",
       "1950-09-01  18.549999  18.549999  18.549999  18.549999  1290000  18.549999   \n",
       "1950-10-01  19.690001  19.690001  19.690001  19.690001  2200000  19.690001   \n",
       "1950-11-01  19.559999  19.559999  19.559999  19.559999  1780000  19.559999   \n",
       "1950-12-01  19.660000  19.660000  19.660000  19.660000  1870000  19.660000   \n",
       "1951-01-01  20.770000  20.770000  20.770000  20.770000  3030000  20.770000   \n",
       "1951-02-01  21.770000  21.770000  21.770000  21.770000  2380000  21.770000   \n",
       "1951-03-01  21.850000  21.850000  21.850000  21.850000  1610000  21.850000   \n",
       "1951-04-01  21.320000  21.320000  21.320000  21.320000  1280000  21.320000   \n",
       "1951-05-01  22.530001  22.530001  22.530001  22.530001  1760000  22.530001   \n",
       "1951-06-01  21.480000  21.480000  21.480000  21.480000  9810000  21.480000   \n",
       "1951-07-01  21.100000  21.100000  21.100000  21.100000  1350000  21.100000   \n",
       "1951-08-01  22.510000  22.510000  22.510000  22.510000  1680000  22.510000   \n",
       "\n",
       "            YearMonth  \n",
       "1950-01-01    1950001  \n",
       "1950-02-01    1950002  \n",
       "1950-03-01    1950003  \n",
       "1950-04-01    1950004  \n",
       "1950-05-01    1950005  \n",
       "1950-06-01    1950006  \n",
       "1950-07-01    1950007  \n",
       "1950-08-01    1950008  \n",
       "1950-09-01    1950009  \n",
       "1950-10-01    1950010  \n",
       "1950-11-01    1950011  \n",
       "1950-12-01    1950012  \n",
       "1951-01-01    1951001  \n",
       "1951-02-01    1951002  \n",
       "1951-03-01    1951003  \n",
       "1951-04-01    1951004  \n",
       "1951-05-01    1951005  \n",
       "1951-06-01    1951006  \n",
       "1951-07-01    1951007  \n",
       "1951-08-01    1951008  "
      ]
     },
     "execution_count": 197,
     "metadata": {},
     "output_type": "execute_result"
    }
   ],
   "source": [
    "SP500_monthly.index = SP500_monthly.index.map(lambda x: pd.to_datetime(str(x.year) + '-' + str(x.month) + '-01'))\n",
    "SP500_monthly.head(20)"
   ]
  },
  {
   "cell_type": "code",
   "execution_count": 228,
   "metadata": {
    "collapsed": false
   },
   "outputs": [],
   "source": [
    "SP500_monthly['CON_SPEND'] = CON_SPEND\n",
    "SP500_monthly['RET_SALES_IND'] = RET_SALES_IND\n",
    "SP500_monthly['ADP_NER'] = ADP_NER\n",
    "SP500_monthly['DGORDER'] = DGORDER\n",
    "SP500_monthly['AMTMVS'] = AMTMVS\n",
    "SP500_monthly['BOPGSTB'] = BOPGSTB\n",
    "SP500_monthly['TOTALSL'] = TOTALSL\n",
    "SP500_monthly['NAMP'] = NAPM\n",
    "SP500_monthly['JTSJOL'] = JTSJOL\n",
    "SP500_monthly['UMTMTI'] = UMTMTI\n",
    "SP500_monthly['CPI'] = CPI\n",
    "SP500_monthly['UMCSENT'] = UMCSENT\n",
    "SP500_monthly['PPIACO'] = PPIACO\n",
    "SP500_monthly['RLEARN'] = RLEARN\n",
    "SP500_monthly['HOUST'] = HOUST\n",
    "SP500_monthly['RSXFS'] = RSXFS\n",
    "SP500_monthly['MSACSR'] = MSACSR\n",
    "SP500_monthly['IC4WSA'] = IC4WSA\n",
    "SP500_monthly['PSAVERT'] = PSAVERT\n",
    "SP500_monthly['BUSLOANS'] = BUSLOANS\n",
    "SP500_monthly['TDSP'] = TDSP\n",
    "SP500_monthly['TCU'] = TCU\n",
    "SP500_monthly['SFXRSA'] = SFXRSA\n"
   ]
  },
  {
   "cell_type": "code",
   "execution_count": 229,
   "metadata": {
    "collapsed": false
   },
   "outputs": [
    {
     "data": {
      "text/html": [
       "<div>\n",
       "<table border=\"1\" class=\"dataframe\">\n",
       "  <thead>\n",
       "    <tr style=\"text-align: right;\">\n",
       "      <th></th>\n",
       "      <th>Open</th>\n",
       "      <th>High</th>\n",
       "      <th>Low</th>\n",
       "      <th>Close</th>\n",
       "      <th>Volume</th>\n",
       "      <th>Adj Close</th>\n",
       "      <th>YearMonth</th>\n",
       "      <th>CON_SPEND</th>\n",
       "      <th>RET_SALES_IND</th>\n",
       "      <th>ADP_NER</th>\n",
       "      <th>...</th>\n",
       "      <th>RLEARN</th>\n",
       "      <th>HOUST</th>\n",
       "      <th>RSXFS</th>\n",
       "      <th>MSACSR</th>\n",
       "      <th>IC4WSA</th>\n",
       "      <th>PSAVERT</th>\n",
       "      <th>BUSLOANS</th>\n",
       "      <th>TDSP</th>\n",
       "      <th>TCU</th>\n",
       "      <th>SFXRSA</th>\n",
       "    </tr>\n",
       "  </thead>\n",
       "  <tbody>\n",
       "    <tr>\n",
       "      <th>2016-02-01</th>\n",
       "      <td>1936.939941</td>\n",
       "      <td>1947.199951</td>\n",
       "      <td>1920.300049</td>\n",
       "      <td>1939.380005</td>\n",
       "      <td>4322530000</td>\n",
       "      <td>1939.380005</td>\n",
       "      <td>2016002</td>\n",
       "      <td>1.14397e+06</td>\n",
       "      <td>393591</td>\n",
       "      <td>4.9</td>\n",
       "      <td>...</td>\n",
       "      <td>NaN</td>\n",
       "      <td>1178</td>\n",
       "      <td>393591</td>\n",
       "      <td>5.6</td>\n",
       "      <td>NaN</td>\n",
       "      <td>5.4</td>\n",
       "      <td>2006.13</td>\n",
       "      <td>NaN</td>\n",
       "      <td>76.7</td>\n",
       "      <td>225.94</td>\n",
       "    </tr>\n",
       "    <tr>\n",
       "      <th>2016-03-01</th>\n",
       "      <td>1937.089966</td>\n",
       "      <td>1978.349976</td>\n",
       "      <td>1937.089966</td>\n",
       "      <td>1978.349976</td>\n",
       "      <td>4819750000</td>\n",
       "      <td>1978.349976</td>\n",
       "      <td>2016003</td>\n",
       "      <td>1.13749e+06</td>\n",
       "      <td>393137</td>\n",
       "      <td>5</td>\n",
       "      <td>...</td>\n",
       "      <td>NaN</td>\n",
       "      <td>1089</td>\n",
       "      <td>393137</td>\n",
       "      <td>5.8</td>\n",
       "      <td>NaN</td>\n",
       "      <td>5.4</td>\n",
       "      <td>2023.14</td>\n",
       "      <td>NaN</td>\n",
       "      <td>74.8</td>\n",
       "      <td>228.3</td>\n",
       "    </tr>\n",
       "    <tr>\n",
       "      <th>2016-04-01</th>\n",
       "      <td>2056.620117</td>\n",
       "      <td>2075.070068</td>\n",
       "      <td>2043.979980</td>\n",
       "      <td>2072.780029</td>\n",
       "      <td>3749990000</td>\n",
       "      <td>2072.780029</td>\n",
       "      <td>2016004</td>\n",
       "      <td>1.13393e+06</td>\n",
       "      <td>399320</td>\n",
       "      <td>5</td>\n",
       "      <td>...</td>\n",
       "      <td>NaN</td>\n",
       "      <td>1172</td>\n",
       "      <td>399320</td>\n",
       "      <td>4.7</td>\n",
       "      <td>NaN</td>\n",
       "      <td>5.4</td>\n",
       "      <td>2047.49</td>\n",
       "      <td>NaN</td>\n",
       "      <td>75.4</td>\n",
       "      <td>NaN</td>\n",
       "    </tr>\n",
       "    <tr>\n",
       "      <th>2016-05-01</th>\n",
       "      <td>2067.169922</td>\n",
       "      <td>2083.419922</td>\n",
       "      <td>2066.110107</td>\n",
       "      <td>2081.429932</td>\n",
       "      <td>3841110000</td>\n",
       "      <td>2081.429932</td>\n",
       "      <td>2016005</td>\n",
       "      <td>NaN</td>\n",
       "      <td>NaN</td>\n",
       "      <td>4.7</td>\n",
       "      <td>...</td>\n",
       "      <td>NaN</td>\n",
       "      <td>NaN</td>\n",
       "      <td>NaN</td>\n",
       "      <td>NaN</td>\n",
       "      <td>NaN</td>\n",
       "      <td>NaN</td>\n",
       "      <td>2053.27</td>\n",
       "      <td>NaN</td>\n",
       "      <td>NaN</td>\n",
       "      <td>NaN</td>\n",
       "    </tr>\n",
       "    <tr>\n",
       "      <th>2016-06-01</th>\n",
       "      <td>2093.939941</td>\n",
       "      <td>2100.969971</td>\n",
       "      <td>2085.100098</td>\n",
       "      <td>2099.330078</td>\n",
       "      <td>3525170000</td>\n",
       "      <td>2099.330078</td>\n",
       "      <td>2016006</td>\n",
       "      <td>NaN</td>\n",
       "      <td>NaN</td>\n",
       "      <td>NaN</td>\n",
       "      <td>...</td>\n",
       "      <td>NaN</td>\n",
       "      <td>NaN</td>\n",
       "      <td>NaN</td>\n",
       "      <td>NaN</td>\n",
       "      <td>NaN</td>\n",
       "      <td>NaN</td>\n",
       "      <td>NaN</td>\n",
       "      <td>NaN</td>\n",
       "      <td>NaN</td>\n",
       "      <td>NaN</td>\n",
       "    </tr>\n",
       "  </tbody>\n",
       "</table>\n",
       "<p>5 rows × 30 columns</p>\n",
       "</div>"
      ],
      "text/plain": [
       "                   Open         High          Low        Close      Volume  \\\n",
       "2016-02-01  1936.939941  1947.199951  1920.300049  1939.380005  4322530000   \n",
       "2016-03-01  1937.089966  1978.349976  1937.089966  1978.349976  4819750000   \n",
       "2016-04-01  2056.620117  2075.070068  2043.979980  2072.780029  3749990000   \n",
       "2016-05-01  2067.169922  2083.419922  2066.110107  2081.429932  3841110000   \n",
       "2016-06-01  2093.939941  2100.969971  2085.100098  2099.330078  3525170000   \n",
       "\n",
       "              Adj Close  YearMonth    CON_SPEND RET_SALES_IND ADP_NER   ...    \\\n",
       "2016-02-01  1939.380005    2016002  1.14397e+06        393591     4.9   ...     \n",
       "2016-03-01  1978.349976    2016003  1.13749e+06        393137       5   ...     \n",
       "2016-04-01  2072.780029    2016004  1.13393e+06        399320       5   ...     \n",
       "2016-05-01  2081.429932    2016005          NaN           NaN     4.7   ...     \n",
       "2016-06-01  2099.330078    2016006          NaN           NaN     NaN   ...     \n",
       "\n",
       "           RLEARN HOUST   RSXFS MSACSR IC4WSA PSAVERT BUSLOANS TDSP   TCU  \\\n",
       "2016-02-01    NaN  1178  393591    5.6    NaN     5.4  2006.13  NaN  76.7   \n",
       "2016-03-01    NaN  1089  393137    5.8    NaN     5.4  2023.14  NaN  74.8   \n",
       "2016-04-01    NaN  1172  399320    4.7    NaN     5.4  2047.49  NaN  75.4   \n",
       "2016-05-01    NaN   NaN     NaN    NaN    NaN     NaN  2053.27  NaN   NaN   \n",
       "2016-06-01    NaN   NaN     NaN    NaN    NaN     NaN      NaN  NaN   NaN   \n",
       "\n",
       "            SFXRSA  \n",
       "2016-02-01  225.94  \n",
       "2016-03-01   228.3  \n",
       "2016-04-01     NaN  \n",
       "2016-05-01     NaN  \n",
       "2016-06-01     NaN  \n",
       "\n",
       "[5 rows x 30 columns]"
      ]
     },
     "execution_count": 229,
     "metadata": {},
     "output_type": "execute_result"
    }
   ],
   "source": [
    "SP500_monthly.tail()"
   ]
  },
  {
   "cell_type": "code",
   "execution_count": 230,
   "metadata": {
    "collapsed": true
   },
   "outputs": [],
   "source": [
    "SP_nullness = SP500_monthly.dropna()"
   ]
  },
  {
   "cell_type": "code",
   "execution_count": 231,
   "metadata": {
    "collapsed": false,
    "scrolled": true
   },
   "outputs": [
    {
     "data": {
      "text/html": [
       "<div>\n",
       "<table border=\"1\" class=\"dataframe\">\n",
       "  <thead>\n",
       "    <tr style=\"text-align: right;\">\n",
       "      <th></th>\n",
       "      <th>Open</th>\n",
       "      <th>High</th>\n",
       "      <th>Low</th>\n",
       "      <th>Close</th>\n",
       "      <th>Volume</th>\n",
       "      <th>Adj Close</th>\n",
       "      <th>YearMonth</th>\n",
       "      <th>CON_SPEND</th>\n",
       "      <th>RET_SALES_IND</th>\n",
       "      <th>ADP_NER</th>\n",
       "      <th>...</th>\n",
       "      <th>RLEARN</th>\n",
       "      <th>HOUST</th>\n",
       "      <th>RSXFS</th>\n",
       "      <th>MSACSR</th>\n",
       "      <th>IC4WSA</th>\n",
       "      <th>PSAVERT</th>\n",
       "      <th>BUSLOANS</th>\n",
       "      <th>TDSP</th>\n",
       "      <th>TCU</th>\n",
       "      <th>SFXRSA</th>\n",
       "    </tr>\n",
       "  </thead>\n",
       "  <tbody>\n",
       "    <tr>\n",
       "      <th>2005-01-01</th>\n",
       "      <td>1211.920044</td>\n",
       "      <td>1217.800049</td>\n",
       "      <td>1200.319946</td>\n",
       "      <td>1202.079956</td>\n",
       "      <td>1510800000</td>\n",
       "      <td>1202.079956</td>\n",
       "      <td>2005001</td>\n",
       "      <td>1.03619e+06</td>\n",
       "      <td>313730</td>\n",
       "      <td>5.2</td>\n",
       "      <td>...</td>\n",
       "      <td>336</td>\n",
       "      <td>2159</td>\n",
       "      <td>313730</td>\n",
       "      <td>4.4</td>\n",
       "      <td>328000</td>\n",
       "      <td>1</td>\n",
       "      <td>925.4</td>\n",
       "      <td>13.4</td>\n",
       "      <td>79</td>\n",
       "      <td>191.57</td>\n",
       "    </tr>\n",
       "    <tr>\n",
       "      <th>2005-10-01</th>\n",
       "      <td>1228.810059</td>\n",
       "      <td>1233.339966</td>\n",
       "      <td>1225.150024</td>\n",
       "      <td>1226.699951</td>\n",
       "      <td>2097490000</td>\n",
       "      <td>1226.699951</td>\n",
       "      <td>2005010</td>\n",
       "      <td>1.14566e+06</td>\n",
       "      <td>317010</td>\n",
       "      <td>5</td>\n",
       "      <td>...</td>\n",
       "      <td>332</td>\n",
       "      <td>2014</td>\n",
       "      <td>317010</td>\n",
       "      <td>4.5</td>\n",
       "      <td>397500</td>\n",
       "      <td>-0.7</td>\n",
       "      <td>1032.2</td>\n",
       "      <td>13.86</td>\n",
       "      <td>79.5</td>\n",
       "      <td>214.16</td>\n",
       "    </tr>\n",
       "    <tr>\n",
       "      <th>2006-04-01</th>\n",
       "      <td>1302.880005</td>\n",
       "      <td>1309.189941</td>\n",
       "      <td>1296.650024</td>\n",
       "      <td>1297.810059</td>\n",
       "      <td>2494080000</td>\n",
       "      <td>1297.810059</td>\n",
       "      <td>2006004</td>\n",
       "      <td>1.18348e+06</td>\n",
       "      <td>327475</td>\n",
       "      <td>4.7</td>\n",
       "      <td>...</td>\n",
       "      <td>329</td>\n",
       "      <td>1849</td>\n",
       "      <td>327475</td>\n",
       "      <td>6.3</td>\n",
       "      <td>300500</td>\n",
       "      <td>-1.6</td>\n",
       "      <td>1099.3</td>\n",
       "      <td>14.4</td>\n",
       "      <td>81.9</td>\n",
       "      <td>218.91</td>\n",
       "    </tr>\n",
       "    <tr>\n",
       "      <th>2006-07-01</th>\n",
       "      <td>1270.060059</td>\n",
       "      <td>1280.380005</td>\n",
       "      <td>1270.060059</td>\n",
       "      <td>1280.189941</td>\n",
       "      <td>1114470000</td>\n",
       "      <td>1280.189941</td>\n",
       "      <td>2006007</td>\n",
       "      <td>1.16509e+06</td>\n",
       "      <td>332418</td>\n",
       "      <td>4.8</td>\n",
       "      <td>...</td>\n",
       "      <td>334</td>\n",
       "      <td>1795</td>\n",
       "      <td>332418</td>\n",
       "      <td>7.3</td>\n",
       "      <td>310500</td>\n",
       "      <td>-0.9</td>\n",
       "      <td>1136.7</td>\n",
       "      <td>14.49</td>\n",
       "      <td>82.4</td>\n",
       "      <td>215.21</td>\n",
       "    </tr>\n",
       "    <tr>\n",
       "      <th>2011-01-01</th>\n",
       "      <td>1257.619995</td>\n",
       "      <td>1276.170044</td>\n",
       "      <td>1257.619995</td>\n",
       "      <td>1271.869995</td>\n",
       "      <td>4286670000</td>\n",
       "      <td>1271.869995</td>\n",
       "      <td>2011001</td>\n",
       "      <td>771982</td>\n",
       "      <td>342018</td>\n",
       "      <td>9</td>\n",
       "      <td>...</td>\n",
       "      <td>338</td>\n",
       "      <td>596</td>\n",
       "      <td>342018</td>\n",
       "      <td>7.2</td>\n",
       "      <td>410750</td>\n",
       "      <td>5.8</td>\n",
       "      <td>1225.6</td>\n",
       "      <td>11.51</td>\n",
       "      <td>76.1</td>\n",
       "      <td>135.64</td>\n",
       "    </tr>\n",
       "    <tr>\n",
       "      <th>2011-10-01</th>\n",
       "      <td>1131.209961</td>\n",
       "      <td>1138.989990</td>\n",
       "      <td>1098.920044</td>\n",
       "      <td>1099.229980</td>\n",
       "      <td>5670340000</td>\n",
       "      <td>1099.229980</td>\n",
       "      <td>2011010</td>\n",
       "      <td>798530</td>\n",
       "      <td>355840</td>\n",
       "      <td>9</td>\n",
       "      <td>...</td>\n",
       "      <td>335</td>\n",
       "      <td>628</td>\n",
       "      <td>355840</td>\n",
       "      <td>6.3</td>\n",
       "      <td>414000</td>\n",
       "      <td>3.5</td>\n",
       "      <td>1313.2</td>\n",
       "      <td>10.88</td>\n",
       "      <td>77.8</td>\n",
       "      <td>130.2</td>\n",
       "    </tr>\n",
       "  </tbody>\n",
       "</table>\n",
       "<p>6 rows × 30 columns</p>\n",
       "</div>"
      ],
      "text/plain": [
       "                   Open         High          Low        Close      Volume  \\\n",
       "2005-01-01  1211.920044  1217.800049  1200.319946  1202.079956  1510800000   \n",
       "2005-10-01  1228.810059  1233.339966  1225.150024  1226.699951  2097490000   \n",
       "2006-04-01  1302.880005  1309.189941  1296.650024  1297.810059  2494080000   \n",
       "2006-07-01  1270.060059  1280.380005  1270.060059  1280.189941  1114470000   \n",
       "2011-01-01  1257.619995  1276.170044  1257.619995  1271.869995  4286670000   \n",
       "2011-10-01  1131.209961  1138.989990  1098.920044  1099.229980  5670340000   \n",
       "\n",
       "              Adj Close  YearMonth    CON_SPEND RET_SALES_IND ADP_NER   ...    \\\n",
       "2005-01-01  1202.079956    2005001  1.03619e+06        313730     5.2   ...     \n",
       "2005-10-01  1226.699951    2005010  1.14566e+06        317010       5   ...     \n",
       "2006-04-01  1297.810059    2006004  1.18348e+06        327475     4.7   ...     \n",
       "2006-07-01  1280.189941    2006007  1.16509e+06        332418     4.8   ...     \n",
       "2011-01-01  1271.869995    2011001       771982        342018       9   ...     \n",
       "2011-10-01  1099.229980    2011010       798530        355840       9   ...     \n",
       "\n",
       "           RLEARN HOUST   RSXFS MSACSR  IC4WSA PSAVERT BUSLOANS   TDSP   TCU  \\\n",
       "2005-01-01    336  2159  313730    4.4  328000       1    925.4   13.4    79   \n",
       "2005-10-01    332  2014  317010    4.5  397500    -0.7   1032.2  13.86  79.5   \n",
       "2006-04-01    329  1849  327475    6.3  300500    -1.6   1099.3   14.4  81.9   \n",
       "2006-07-01    334  1795  332418    7.3  310500    -0.9   1136.7  14.49  82.4   \n",
       "2011-01-01    338   596  342018    7.2  410750     5.8   1225.6  11.51  76.1   \n",
       "2011-10-01    335   628  355840    6.3  414000     3.5   1313.2  10.88  77.8   \n",
       "\n",
       "            SFXRSA  \n",
       "2005-01-01  191.57  \n",
       "2005-10-01  214.16  \n",
       "2006-04-01  218.91  \n",
       "2006-07-01  215.21  \n",
       "2011-01-01  135.64  \n",
       "2011-10-01   130.2  \n",
       "\n",
       "[6 rows x 30 columns]"
      ]
     },
     "execution_count": 231,
     "metadata": {},
     "output_type": "execute_result"
    }
   ],
   "source": [
    "SP_nullness"
   ]
  },
  {
   "cell_type": "markdown",
   "metadata": {},
   "source": [
    "### not going to work"
   ]
  },
  {
   "cell_type": "code",
   "execution_count": 233,
   "metadata": {
    "collapsed": false
   },
   "outputs": [
    {
     "name": "stdout",
     "output_type": "stream",
     "text": [
      "<class 'pandas.core.frame.DataFrame'>\n",
      "DatetimeIndex: 798 entries, 1950-01-01 to 2016-06-01\n",
      "Data columns (total 30 columns):\n",
      "Open             798 non-null float64\n",
      "High             798 non-null float64\n",
      "Low              798 non-null float64\n",
      "Close            798 non-null float64\n",
      "Volume           798 non-null int64\n",
      "Adj Close        798 non-null float64\n",
      "YearMonth        798 non-null int32\n",
      "CON_SPEND        280 non-null object\n",
      "RET_SALES_IND    292 non-null object\n",
      "ADP_NER          796 non-null object\n",
      "DGORDER          699 non-null object\n",
      "AMTMVS           292 non-null object\n",
      "BOPGSTB          292 non-null object\n",
      "TOTALSL          795 non-null object\n",
      "NAMP             796 non-null object\n",
      "JTSJOL           185 non-null object\n",
      "UMTMTI           292 non-null object\n",
      "CPI              795 non-null object\n",
      "UMCSENT          553 non-null object\n",
      "PPIACO           795 non-null object\n",
      "RLEARN           149 non-null object\n",
      "HOUST            688 non-null object\n",
      "RSXFS            292 non-null object\n",
      "MSACSR           640 non-null object\n",
      "IC4WSA           85 non-null object\n",
      "PSAVERT          688 non-null object\n",
      "BUSLOANS         796 non-null object\n",
      "TDSP             144 non-null object\n",
      "TCU              592 non-null object\n",
      "SFXRSA           351 non-null object\n",
      "dtypes: float64(5), int32(1), int64(1), object(23)\n",
      "memory usage: 190.1+ KB\n"
     ]
    }
   ],
   "source": [
    "SP500_monthly.info()"
   ]
  },
  {
   "cell_type": "code",
   "execution_count": 144,
   "metadata": {
    "collapsed": true
   },
   "outputs": [],
   "source": [
    "from pandas.tools.plotting import scatter_matrix"
   ]
  },
  {
   "cell_type": "code",
   "execution_count": null,
   "metadata": {
    "collapsed": true
   },
   "outputs": [],
   "source": []
  }
 ],
 "metadata": {
  "kernelspec": {
   "display_name": "Python 2",
   "language": "python",
   "name": "python2"
  },
  "language_info": {
   "codemirror_mode": {
    "name": "ipython",
    "version": 2
   },
   "file_extension": ".py",
   "mimetype": "text/x-python",
   "name": "python",
   "nbconvert_exporter": "python",
   "pygments_lexer": "ipython2",
   "version": "2.7.11"
  }
 },
 "nbformat": 4,
 "nbformat_minor": 0
}
